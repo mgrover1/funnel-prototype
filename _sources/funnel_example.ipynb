{
 "cells": [
  {
   "cell_type": "markdown",
   "id": "33328ad1-e8bf-4809-9f88-4f2016bc7286",
   "metadata": {},
   "source": [
    "# Example of Funnel using Xcollection"
   ]
  },
  {
   "cell_type": "code",
   "execution_count": 129,
   "id": "7bf97eed-7899-4147-98f1-9cafcf9e3248",
   "metadata": {},
   "outputs": [],
   "source": [
    "from xcollection import Collection\n",
    "import xcollection\n",
    "import pydantic\n",
    "import intake\n",
    "import pandas as pd\n",
    "from ncar_jobqueue import NCARCluster\n",
    "from distributed import Client\n",
    "import dask"
   ]
  },
  {
   "cell_type": "code",
   "execution_count": 34,
   "id": "0e26d94d-e81e-4412-a8d5-5533f290ba41",
   "metadata": {},
   "outputs": [
    {
     "data": {
      "text/html": [
       "<p><strong>aws-cesm2-le catalog with 28 dataset(s) from 293 asset(s)</strong>:</p> <div>\n",
       "<style scoped>\n",
       "    .dataframe tbody tr th:only-of-type {\n",
       "        vertical-align: middle;\n",
       "    }\n",
       "\n",
       "    .dataframe tbody tr th {\n",
       "        vertical-align: top;\n",
       "    }\n",
       "\n",
       "    .dataframe thead th {\n",
       "        text-align: right;\n",
       "    }\n",
       "</style>\n",
       "<table border=\"1\" class=\"dataframe\">\n",
       "  <thead>\n",
       "    <tr style=\"text-align: right;\">\n",
       "      <th></th>\n",
       "      <th>unique</th>\n",
       "    </tr>\n",
       "  </thead>\n",
       "  <tbody>\n",
       "    <tr>\n",
       "      <th>component</th>\n",
       "      <td>4</td>\n",
       "    </tr>\n",
       "    <tr>\n",
       "      <th>spatial_domain</th>\n",
       "      <td>3</td>\n",
       "    </tr>\n",
       "    <tr>\n",
       "      <th>frequency</th>\n",
       "      <td>3</td>\n",
       "    </tr>\n",
       "    <tr>\n",
       "      <th>path</th>\n",
       "      <td>284</td>\n",
       "    </tr>\n",
       "    <tr>\n",
       "      <th>experiment</th>\n",
       "      <td>2</td>\n",
       "    </tr>\n",
       "    <tr>\n",
       "      <th>forcing_variant</th>\n",
       "      <td>2</td>\n",
       "    </tr>\n",
       "    <tr>\n",
       "      <th>variable</th>\n",
       "      <td>57</td>\n",
       "    </tr>\n",
       "    <tr>\n",
       "      <th>long_name</th>\n",
       "      <td>57</td>\n",
       "    </tr>\n",
       "    <tr>\n",
       "      <th>start_time</th>\n",
       "      <td>4</td>\n",
       "    </tr>\n",
       "    <tr>\n",
       "      <th>end_time</th>\n",
       "      <td>6</td>\n",
       "    </tr>\n",
       "  </tbody>\n",
       "</table>\n",
       "</div>"
      ],
      "text/plain": [
       "<IPython.core.display.HTML object>"
      ]
     },
     "metadata": {},
     "output_type": "display_data"
    }
   ],
   "source": [
    "catalog = intake.open_esm_datastore(\n",
    "    'https://raw.githubusercontent.com/NCAR/cesm2-le-aws/main/data/aws-cesm2-le.json'\n",
    ")\n",
    "catalog"
   ]
  },
  {
   "cell_type": "code",
   "execution_count": 58,
   "id": "3e75c04b-2b46-4f9d-93e0-2b06783d8d22",
   "metadata": {},
   "outputs": [],
   "source": [
    "cat = catalog.search(variable='SALT', component='ocn', frequency='monthly')"
   ]
  },
  {
   "cell_type": "code",
   "execution_count": 62,
   "id": "201c9942-162f-4a06-b144-9774b016f6cb",
   "metadata": {},
   "outputs": [
    {
     "name": "stdout",
     "output_type": "stream",
     "text": [
      "\n",
      "--> The keys in the returned dictionary of datasets are constructed as follows:\n",
      "\t'component.experiment.frequency.forcing_variant'\n",
      "█\r"
     ]
    }
   ],
   "source": [
    "dsets = cat.to_dataset_dict(storage_options={'anon':True})"
   ]
  },
  {
   "cell_type": "code",
   "execution_count": 30,
   "id": "4004ce82-7419-4c92-8d92-7f1b6960cce9",
   "metadata": {},
   "outputs": [],
   "source": [
    "cluster = NCARCluster()\n",
    "cluster.scale(10)\n",
    "client = Client(cluster)"
   ]
  },
  {
   "cell_type": "code",
   "execution_count": 31,
   "id": "e59df5e1-86b4-4afc-9819-af4bd149bd8c",
   "metadata": {},
   "outputs": [
    {
     "data": {
      "text/html": [
       "\n",
       "            <div>\n",
       "                <div style=\"\n",
       "                    width: 24px;\n",
       "                    height: 24px;\n",
       "                    background-color: #e1e1e1;\n",
       "                    border: 3px solid #9D9D9D;\n",
       "                    border-radius: 5px;\n",
       "                    position: absolute;\"> </div>\n",
       "                <div style=\"margin-left: 48px;\">\n",
       "                    <h3 style=\"margin-bottom: 0px;\">Client</h3>\n",
       "                    <p style=\"color: #9D9D9D; margin-bottom: 0px;\">Client-39acc051-310d-11ec-b245-3cecef1acc46</p>\n",
       "                    <table style=\"width: 100%; text-align: left;\">\n",
       "                    \n",
       "                <tr>\n",
       "                    <td style=\"text-align: left;\"><strong>Connection method:</strong> Cluster object</td>\n",
       "                    <td style=\"text-align: left;\"><strong>Cluster type:</strong> PBSCluster</td>\n",
       "                </tr>\n",
       "                \n",
       "                <tr>\n",
       "                    <td style=\"text-align: left;\">\n",
       "                        <strong>Dashboard: </strong>\n",
       "                        <a href=\"https://jupyterhub.hpc.ucar.edu/stable/user/mgrover/proxy/8787/status\">https://jupyterhub.hpc.ucar.edu/stable/user/mgrover/proxy/8787/status</a>\n",
       "                    </td>\n",
       "                    <td style=\"text-align: left;\"></td>\n",
       "                </tr>\n",
       "                \n",
       "                    </table>\n",
       "                    \n",
       "                <details>\n",
       "                <summary style=\"margin-bottom: 20px;\"><h3 style=\"display: inline;\">Cluster Info</h3></summary>\n",
       "                \n",
       "            <div class=\"jp-RenderedHTMLCommon jp-RenderedHTML jp-mod-trusted jp-OutputArea-output\">\n",
       "                <div style=\"\n",
       "                    width: 24px;\n",
       "                    height: 24px;\n",
       "                    background-color: #e1e1e1;\n",
       "                    border: 3px solid #9D9D9D;\n",
       "                    border-radius: 5px;\n",
       "                    position: absolute;\"> </div>\n",
       "                <div style=\"margin-left: 48px;\">\n",
       "                    <h3 style=\"margin-bottom: 0px; margin-top: 0px;\">PBSCluster</h3>\n",
       "                    <p style=\"color: #9D9D9D; margin-bottom: 0px;\">4bec23d5</p>\n",
       "                    <table style=\"width: 100%; text-align: left;\">\n",
       "                    \n",
       "            <tr>\n",
       "                <td style=\"text-align: left;\">\n",
       "                    <strong>Dashboard:</strong> <a href=\"https://jupyterhub.hpc.ucar.edu/stable/user/mgrover/proxy/8787/status\">https://jupyterhub.hpc.ucar.edu/stable/user/mgrover/proxy/8787/status</a>\n",
       "                </td>\n",
       "                <td style=\"text-align: left;\"><strong>Workers:</strong> 0</td>\n",
       "            </tr>\n",
       "            <tr>\n",
       "                <td style=\"text-align: left;\">\n",
       "                    <strong>Total threads:</strong>\n",
       "                    0\n",
       "                </td>\n",
       "                <td style=\"text-align: left;\">\n",
       "                    <strong>Total memory:</strong>\n",
       "                    0 B\n",
       "                </td>\n",
       "            </tr>\n",
       "        \n",
       "                    </table>\n",
       "                    <details>\n",
       "                    <summary style=\"margin-bottom: 20px;\"><h3 style=\"display: inline;\">Scheduler Info</h3></summary>\n",
       "                    \n",
       "        <div style=\"\">\n",
       "            \n",
       "            <div>\n",
       "                <div style=\"\n",
       "                    width: 24px;\n",
       "                    height: 24px;\n",
       "                    background-color: #FFF7E5;\n",
       "                    border: 3px solid #FF6132;\n",
       "                    border-radius: 5px;\n",
       "                    position: absolute;\"> </div>\n",
       "                <div style=\"margin-left: 48px;\">\n",
       "                    <h3 style=\"margin-bottom: 0px;\">Scheduler</h3>\n",
       "                    <p style=\"color: #9D9D9D; margin-bottom: 0px;\">Scheduler-1875d418-5c63-4bd6-8382-8f297167098b</p>\n",
       "                    <table style=\"width: 100%; text-align: left;\">\n",
       "                        <tr>\n",
       "                            <td style=\"text-align: left;\"><strong>Comm:</strong> tcp://10.12.206.3:40755</td>\n",
       "                            <td style=\"text-align: left;\"><strong>Workers:</strong> 0</td>\n",
       "                        </tr>\n",
       "                        <tr>\n",
       "                            <td style=\"text-align: left;\">\n",
       "                                <strong>Dashboard:</strong> <a href=\"https://jupyterhub.hpc.ucar.edu/stable/user/mgrover/proxy/8787/status\">https://jupyterhub.hpc.ucar.edu/stable/user/mgrover/proxy/8787/status</a>\n",
       "                            </td>\n",
       "                            <td style=\"text-align: left;\">\n",
       "                                <strong>Total threads:</strong>\n",
       "                                0\n",
       "                            </td>\n",
       "                        </tr>\n",
       "                        <tr>\n",
       "                            <td style=\"text-align: left;\">\n",
       "                                <strong>Started:</strong>\n",
       "                                Just now\n",
       "                            </td>\n",
       "                            <td style=\"text-align: left;\">\n",
       "                                <strong>Total memory:</strong>\n",
       "                                0 B\n",
       "                            </td>\n",
       "                        </tr>\n",
       "                    </table>\n",
       "                </div>\n",
       "            </div>\n",
       "        \n",
       "            <details style=\"margin-left: 48px;\">\n",
       "            <summary style=\"margin-bottom: 20px;\"><h3 style=\"display: inline;\">Workers</h3></summary>\n",
       "            \n",
       "            </details>\n",
       "        </div>\n",
       "        \n",
       "                    </details>\n",
       "                </div>\n",
       "            </div>\n",
       "        \n",
       "                </details>\n",
       "                \n",
       "                </div>\n",
       "            </div>\n",
       "        "
      ],
      "text/plain": [
       "<Client: 'tcp://10.12.206.3:40755' processes=0 threads=0, memory=0 B>"
      ]
     },
     "execution_count": 31,
     "metadata": {},
     "output_type": "execute_result"
    }
   ],
   "source": [
    "client"
   ]
  },
  {
   "cell_type": "code",
   "execution_count": 33,
   "id": "0ce9d412-cb15-418e-9e10-46cae588fdff",
   "metadata": {},
   "outputs": [
    {
     "data": {
      "application/vnd.jupyter.widget-view+json": {
       "model_id": "67cd11c642894f1ea90b2c7f132d4b49",
       "version_major": 2,
       "version_minor": 0
      },
      "text/plain": [
       "Tab(children=(HTML(value='\\n            <div class=\"jp-RenderedHTMLCommon jp-RenderedHTML jp-mod-trusted jp-Ou…"
      ]
     },
     "metadata": {},
     "output_type": "display_data"
    }
   ],
   "source": [
    "cluster"
   ]
  },
  {
   "cell_type": "code",
   "execution_count": 348,
   "id": "c5a90df4-8558-49a8-8c41-fa238b8e53c5",
   "metadata": {},
   "outputs": [],
   "source": [
    "@pydantic.dataclasses.dataclass\n",
    "class Funnel:\n",
    "    dsets: xcollection.Collection\n",
    "    \n",
    "    def __post_init_post_parse__(self):\n",
    "        self.keys = self.dsets.keys()\n",
    "        self.base_keys = self.keys\n",
    "        self.operator_keys = [None]\n",
    "        self.base_token = dask.base.tokenize(self.dsets)\n",
    "        self.base_dsets = self.dsets\n",
    "        self.operated_dsets = self.dsets\n",
    "        \n",
    "    def apply(self, operator, *operator_args, **operator_kwargs):\n",
    "        operator_name = operator.__name__\n",
    "        operated_dsets = self.dsets.map(operator, *operator_kwargs, **operator_kwargs)\n",
    "        self.operator_keys = operator_name\n",
    "        out_dsets = {}\n",
    "        for key in self.base_dsets.keys():\n",
    "            out_dsets[f'{key}.{operator_name}'] = operated_dsets[key]\n",
    "        self.operated_dsets = operated_dsets\n",
    "        return self.operated_dsets\n",
    "    \n",
    "    def df(self):\n",
    "        dataframe = pd.DataFrame({'base_keys':self.base_keys,\n",
    "                                  'operator_keys':self.operator_keys})\n",
    "        self.database = dataframe\n",
    "        return dataframe"
   ]
  },
  {
   "cell_type": "code",
   "execution_count": 349,
   "id": "beb40682-38a1-4946-ba67-bbd26678e672",
   "metadata": {},
   "outputs": [],
   "source": [
    "collection = xcollection.Collection(dsets)"
   ]
  },
  {
   "cell_type": "code",
   "execution_count": 350,
   "id": "892d82a4-036d-4dd9-8c7e-b91f7fdf4d6c",
   "metadata": {},
   "outputs": [],
   "source": [
    "data_collection = Funnel(collection)"
   ]
  },
  {
   "cell_type": "code",
   "execution_count": 353,
   "id": "7ff83ee7-fa5e-42fd-9a43-915156c99f0e",
   "metadata": {},
   "outputs": [],
   "source": [
    "def func_a(ds):\n",
    "    return ds.isel(member_id=range(2))"
   ]
  },
  {
   "cell_type": "code",
   "execution_count": 356,
   "id": "1134509c-4523-44b0-8e71-de398a542c62",
   "metadata": {},
   "outputs": [
    {
     "name": "stdout",
     "output_type": "stream",
     "text": [
      "<Collection (1 keys)>\n",
      "🔑 ocn.ssp370.monthly.cmip6\n",
      "<xarray.Dataset>\n",
      "Dimensions:     (member_id: 2, time: 1032, z_t: 60, nlat: 384, nlon: 320, d2: 2)\n",
      "Coordinates:\n",
      "  * member_id   (member_id) <U12 'r10i1181p1f1' 'r10i1231p1f1'\n",
      "  * time        (time) object 2015-01-16 12:00:00 ... 2100-12-16 12:00:00\n",
      "    time_bound  (time, d2) object dask.array<chunksize=(1032, 2), meta=np.ndarray>\n",
      "  * z_t         (z_t) float32 500.0 1.5e+03 2.5e+03 ... 5.125e+05 5.375e+05\n",
      "Dimensions without coordinates: nlat, nlon, d2\n",
      "Data variables:\n",
      "    SALT        (member_id, time, z_t, nlat, nlon) float32 dask.array<chunksize=(1, 6, 60, 384, 320), meta=np.ndarray>\n",
      "Attributes:\n",
      "    Conventions:             CF-1.0; http://www.cgd.ucar.edu/cms/eaton/netcdf...\n",
      "    calendar:                All years have exactly  365 days.\n",
      "    cell_methods:            cell_methods = time: mean ==> the variable value...\n",
      "    contents:                Diagnostic and Prognostic Variables\n",
      "    model_doi_url:           https://doi.org/10.5065/D67H1H0V\n",
      "    revision:                $Id$\n",
      "    source:                  CCSM POP2, the CCSM Ocean Component\n",
      "    time_period_freq:        month_1\n",
      "    intake_esm_varname:      ['SALT']\n",
      "    intake_esm_dataset_key:  ocn.ssp370.monthly.cmip6\n",
      "\n",
      "\n"
     ]
    }
   ],
   "source": [
    "print(data_collection.apply(func_a))"
   ]
  },
  {
   "cell_type": "code",
   "execution_count": 357,
   "id": "7d017adf-dcc8-4322-9933-bbc4608a46e2",
   "metadata": {},
   "outputs": [
    {
     "data": {
      "text/html": [
       "<div>\n",
       "<style scoped>\n",
       "    .dataframe tbody tr th:only-of-type {\n",
       "        vertical-align: middle;\n",
       "    }\n",
       "\n",
       "    .dataframe tbody tr th {\n",
       "        vertical-align: top;\n",
       "    }\n",
       "\n",
       "    .dataframe thead th {\n",
       "        text-align: right;\n",
       "    }\n",
       "</style>\n",
       "<table border=\"1\" class=\"dataframe\">\n",
       "  <thead>\n",
       "    <tr style=\"text-align: right;\">\n",
       "      <th></th>\n",
       "      <th>base_keys</th>\n",
       "      <th>operator_keys</th>\n",
       "    </tr>\n",
       "  </thead>\n",
       "  <tbody>\n",
       "    <tr>\n",
       "      <th>0</th>\n",
       "      <td>ocn.ssp370.monthly.cmip6</td>\n",
       "      <td>func_a</td>\n",
       "    </tr>\n",
       "  </tbody>\n",
       "</table>\n",
       "</div>"
      ],
      "text/plain": [
       "                  base_keys operator_keys\n",
       "0  ocn.ssp370.monthly.cmip6        func_a"
      ]
     },
     "execution_count": 357,
     "metadata": {},
     "output_type": "execute_result"
    }
   ],
   "source": [
    "data_collection.df()"
   ]
  },
  {
   "cell_type": "code",
   "execution_count": null,
   "id": "6892da17-1c17-4c1b-b817-2d51042b0084",
   "metadata": {},
   "outputs": [],
   "source": []
  }
 ],
 "metadata": {
  "kernelspec": {
   "display_name": "Python [conda env:miniconda3-cesm-collections-dev]",
   "language": "python",
   "name": "conda-env-miniconda3-cesm-collections-dev-py"
  },
  "language_info": {
   "codemirror_mode": {
    "name": "ipython",
    "version": 3
   },
   "file_extension": ".py",
   "mimetype": "text/x-python",
   "name": "python",
   "nbconvert_exporter": "python",
   "pygments_lexer": "ipython3",
   "version": "3.9.6"
  }
 },
 "nbformat": 4,
 "nbformat_minor": 5
}
